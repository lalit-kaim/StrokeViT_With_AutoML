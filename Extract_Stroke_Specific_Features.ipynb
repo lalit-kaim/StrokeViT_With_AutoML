{
  "nbformat": 4,
  "nbformat_minor": 0,
  "metadata": {
    "colab": {
      "name": "Extracting All Features.ipynb",
      "provenance": [],
      "collapsed_sections": []
    },
    "kernelspec": {
      "name": "python3",
      "display_name": "Python 3"
    },
    "language_info": {
      "name": "python"
    }
  },
  "cells": [
    {
      "cell_type": "code",
      "execution_count": 3,
      "metadata": {
        "id": "SBcvphRY9bzN"
      },
      "outputs": [],
      "source": [
        "# importing libraries\n",
        "\n",
        "import  os\n",
        "import pandas as pd\n",
        "import pickle\n",
        "from sklearn import preprocessing"
      ]
    },
    {
      "cell_type": "code",
      "source": [
        "# data.csv contains slice wise prediction of each patient in each row\n",
        "\n",
        "# normal is labeled as 1\n",
        "# infarct is labeled as 2\n",
        "# haemorrhage is labeled as 3\n",
        "\n",
        "df = pd.read_csv(\"./data.csv\")\n",
        "data = df.drop(columns=['labels'])\n",
        "labels = df['labels']\n",
        "\n",
        "start_ham = [] #starting index of ham\n",
        "start_inf = [] \n",
        "start_norm = [] \n",
        "count_ham = [] #total count of ham\n",
        "count_inf = []\n",
        "count_norm = []\n",
        "longest_ham = [] # longest consecutive ham\n",
        "longest_inf = []\n",
        "longest_norm = []\n",
        "\n",
        "# loop on each patient data\n",
        "for i, j in data.iterrows():\n",
        "    initial_ham = -1\n",
        "    initial_inf = -1\n",
        "    initial_norm = -1\n",
        "    long_ham = 0\n",
        "    long_inf = 0\n",
        "    long_norm = 0\n",
        "    max_ham = 0\n",
        "    max_inf = 0\n",
        "    max_norm = 0\n",
        "    num_ham = 0\n",
        "    num_inf = 0\n",
        "    num_norm = 0\n",
        "    first_ham = True\n",
        "    first_inf = True\n",
        "    first_norm = True\n",
        "    # loop on each slice data of a patient\n",
        "    for x, y in j.items():\n",
        "      if y == 1 and first_norm:\n",
        "        initial_norm = x\n",
        "        first_norm = False\n",
        "      if y == 2 and first_inf:\n",
        "        initial_inf = x\n",
        "        first_inf = False\n",
        "      if y == 3 and first_ham:\n",
        "        initial_ham = x\n",
        "        first_ham = False\n",
        "      if y == 1:\n",
        "        num_norm = num_norm + 1\n",
        "      if y == 2:\n",
        "        num_inf = num_inf + 1\n",
        "      if y == 3:\n",
        "        num_ham = num_ham + 1\n",
        "      if y == 1:\n",
        "        max_norm = max_norm + 1\n",
        "        long_norm = max(long_norm, max_norm)\n",
        "      else:\n",
        "        long_norm = max(long_norm, max_norm)\n",
        "        max_norm = 0\n",
        "      if y == 2:\n",
        "        max_inf = max_inf + 1\n",
        "        long_inf = max(long_inf, max_inf)\n",
        "      else:\n",
        "        long_inf = max(long_inf, max_inf)\n",
        "        max_inf = 0\n",
        "      if y == 3:\n",
        "        max_ham = max_ham + 1\n",
        "        long_ham = max(long_ham, max_ham)\n",
        "      else:\n",
        "        long_ham = max(long_ham, max_ham)\n",
        "        max_ham = 0\n",
        "    start_norm.append(initial_norm)\n",
        "    start_inf.append(initial_inf)    \n",
        "    start_ham.append(initial_ham)\n",
        "    count_norm.append(num_norm)\n",
        "    count_inf.append(num_inf)\n",
        "    count_ham.append(num_ham)\n",
        "    longest_norm.append(long_norm)\n",
        "    longest_inf.append(long_inf)\n",
        "    longest_ham.append(long_ham)"
      ],
      "metadata": {
        "id": "WvYL90969zbZ"
      },
      "execution_count": 31,
      "outputs": []
    },
    {
      "cell_type": "code",
      "source": [
        "# constructed dataframe for training Auto-ML model\n",
        "\n",
        "df_features = pd.DataFrame()\n",
        "\n",
        "df_features['start_norm'] = start_norm\n",
        "df_features['start_inf'] = start_inf\n",
        "df_features['start_ham'] = start_ham\n",
        "df_features['count_norm'] = count_norm\n",
        "df_features['count_inf'] = count_inf\n",
        "df_features['count_ham'] = count_ham\n",
        "df_features['longest_norm'] = longest_norm\n",
        "df_features['longest_inf'] = longest_inf\n",
        "df_features['longest_ham'] = longest_ham\n",
        "df_features['labels'] = labels"
      ],
      "metadata": {
        "id": "9FN7t3ft92G9"
      },
      "execution_count": 28,
      "outputs": []
    }
  ]
}